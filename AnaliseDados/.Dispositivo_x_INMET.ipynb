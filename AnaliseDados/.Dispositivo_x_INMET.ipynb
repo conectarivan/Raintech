{
  "nbformat": 4,
  "nbformat_minor": 0,
  "metadata": {
    "colab": {
      "name": "Analysis2.ipynb",
      "provenance": [],
      "collapsed_sections": [],
      "authorship_tag": "ABX9TyN/KHnX7b0OSEepUxU+j/CV",
      "include_colab_link": true
    },
    "kernelspec": {
      "name": "python3",
      "display_name": "Python 3"
    },
    "language_info": {
      "name": "python"
    }
  },
  "cells": [
    {
      "cell_type": "markdown",
      "metadata": {
        "id": "view-in-github",
        "colab_type": "text"
      },
      "source": [
        "<a href=\"https://colab.research.google.com/github/conectarivan/Raintech/blob/main/AnaliseDados/.Dispositivo_x_INMET.ipynb\" target=\"_parent\"><img src=\"https://colab.research.google.com/assets/colab-badge.svg\" alt=\"Open In Colab\"/></a>"
      ]
    },
    {
      "cell_type": "markdown",
      "source": [
        "# Análise de erro"
      ],
      "metadata": {
        "id": "pkiN8GRfyLO_"
      }
    },
    {
      "cell_type": "markdown",
      "source": [
        "Importando dados do INMET do dia 01/06/2022 até 09/06/2022."
      ],
      "metadata": {
        "id": "VwJ-LDZTNHJe"
      }
    },
    {
      "cell_type": "code",
      "execution_count": 186,
      "metadata": {
        "id": "hU58a8YLgeik"
      },
      "outputs": [],
      "source": [
        "import requests\n",
        "\n",
        "url = \"https://apitempo.inmet.gov.br/estacao/2022-06-01/2022-06-09/A201\"\n",
        "resultado = requests.get(url)\n",
        "dados = resultado.json()"
      ]
    },
    {
      "cell_type": "markdown",
      "source": [
        "Filtrando os dados obtidos da plataforma e transformando em um DataFrame."
      ],
      "metadata": {
        "id": "wWJcRuudNKhM"
      }
    },
    {
      "cell_type": "code",
      "source": [
        "import pandas as pd\n",
        "import json\n",
        "\n",
        "dados_str = json.dumps(dados)\n",
        "dados_tabela = pd.read_json(dados_str)\n",
        "\n",
        "dados_filtrados = dados_tabela[[\"DT_MEDICAO\",\"HR_MEDICAO\",\"TEM_INS\",\"UMD_INS\"]]\n",
        "\n",
        "dados_filtrados"
      ],
      "metadata": {
        "colab": {
          "base_uri": "https://localhost:8080/",
          "height": 424
        },
        "id": "q0Zs2ET1gfqm",
        "outputId": "fa523b63-5d50-47b3-a765-fedbd7126df9"
      },
      "execution_count": 187,
      "outputs": [
        {
          "output_type": "execute_result",
          "data": {
            "text/plain": [
              "     DT_MEDICAO  HR_MEDICAO  TEM_INS  UMD_INS\n",
              "0    2022-06-01           0     23.7       98\n",
              "1    2022-06-01         100     23.9       98\n",
              "2    2022-06-01         200     24.0       98\n",
              "3    2022-06-01         300     23.8       98\n",
              "4    2022-06-01         400     23.8       98\n",
              "..          ...         ...      ...      ...\n",
              "211  2022-06-09        1900     30.7       74\n",
              "212  2022-06-09        2000     23.3       96\n",
              "213  2022-06-09        2100     23.4       97\n",
              "214  2022-06-09        2200     23.4       97\n",
              "215  2022-06-09        2300     23.3       96\n",
              "\n",
              "[216 rows x 4 columns]"
            ],
            "text/html": [
              "\n",
              "  <div id=\"df-b8714087-325d-4102-87f2-3bbf68c5dede\">\n",
              "    <div class=\"colab-df-container\">\n",
              "      <div>\n",
              "<style scoped>\n",
              "    .dataframe tbody tr th:only-of-type {\n",
              "        vertical-align: middle;\n",
              "    }\n",
              "\n",
              "    .dataframe tbody tr th {\n",
              "        vertical-align: top;\n",
              "    }\n",
              "\n",
              "    .dataframe thead th {\n",
              "        text-align: right;\n",
              "    }\n",
              "</style>\n",
              "<table border=\"1\" class=\"dataframe\">\n",
              "  <thead>\n",
              "    <tr style=\"text-align: right;\">\n",
              "      <th></th>\n",
              "      <th>DT_MEDICAO</th>\n",
              "      <th>HR_MEDICAO</th>\n",
              "      <th>TEM_INS</th>\n",
              "      <th>UMD_INS</th>\n",
              "    </tr>\n",
              "  </thead>\n",
              "  <tbody>\n",
              "    <tr>\n",
              "      <th>0</th>\n",
              "      <td>2022-06-01</td>\n",
              "      <td>0</td>\n",
              "      <td>23.7</td>\n",
              "      <td>98</td>\n",
              "    </tr>\n",
              "    <tr>\n",
              "      <th>1</th>\n",
              "      <td>2022-06-01</td>\n",
              "      <td>100</td>\n",
              "      <td>23.9</td>\n",
              "      <td>98</td>\n",
              "    </tr>\n",
              "    <tr>\n",
              "      <th>2</th>\n",
              "      <td>2022-06-01</td>\n",
              "      <td>200</td>\n",
              "      <td>24.0</td>\n",
              "      <td>98</td>\n",
              "    </tr>\n",
              "    <tr>\n",
              "      <th>3</th>\n",
              "      <td>2022-06-01</td>\n",
              "      <td>300</td>\n",
              "      <td>23.8</td>\n",
              "      <td>98</td>\n",
              "    </tr>\n",
              "    <tr>\n",
              "      <th>4</th>\n",
              "      <td>2022-06-01</td>\n",
              "      <td>400</td>\n",
              "      <td>23.8</td>\n",
              "      <td>98</td>\n",
              "    </tr>\n",
              "    <tr>\n",
              "      <th>...</th>\n",
              "      <td>...</td>\n",
              "      <td>...</td>\n",
              "      <td>...</td>\n",
              "      <td>...</td>\n",
              "    </tr>\n",
              "    <tr>\n",
              "      <th>211</th>\n",
              "      <td>2022-06-09</td>\n",
              "      <td>1900</td>\n",
              "      <td>30.7</td>\n",
              "      <td>74</td>\n",
              "    </tr>\n",
              "    <tr>\n",
              "      <th>212</th>\n",
              "      <td>2022-06-09</td>\n",
              "      <td>2000</td>\n",
              "      <td>23.3</td>\n",
              "      <td>96</td>\n",
              "    </tr>\n",
              "    <tr>\n",
              "      <th>213</th>\n",
              "      <td>2022-06-09</td>\n",
              "      <td>2100</td>\n",
              "      <td>23.4</td>\n",
              "      <td>97</td>\n",
              "    </tr>\n",
              "    <tr>\n",
              "      <th>214</th>\n",
              "      <td>2022-06-09</td>\n",
              "      <td>2200</td>\n",
              "      <td>23.4</td>\n",
              "      <td>97</td>\n",
              "    </tr>\n",
              "    <tr>\n",
              "      <th>215</th>\n",
              "      <td>2022-06-09</td>\n",
              "      <td>2300</td>\n",
              "      <td>23.3</td>\n",
              "      <td>96</td>\n",
              "    </tr>\n",
              "  </tbody>\n",
              "</table>\n",
              "<p>216 rows × 4 columns</p>\n",
              "</div>\n",
              "      <button class=\"colab-df-convert\" onclick=\"convertToInteractive('df-b8714087-325d-4102-87f2-3bbf68c5dede')\"\n",
              "              title=\"Convert this dataframe to an interactive table.\"\n",
              "              style=\"display:none;\">\n",
              "        \n",
              "  <svg xmlns=\"http://www.w3.org/2000/svg\" height=\"24px\"viewBox=\"0 0 24 24\"\n",
              "       width=\"24px\">\n",
              "    <path d=\"M0 0h24v24H0V0z\" fill=\"none\"/>\n",
              "    <path d=\"M18.56 5.44l.94 2.06.94-2.06 2.06-.94-2.06-.94-.94-2.06-.94 2.06-2.06.94zm-11 1L8.5 8.5l.94-2.06 2.06-.94-2.06-.94L8.5 2.5l-.94 2.06-2.06.94zm10 10l.94 2.06.94-2.06 2.06-.94-2.06-.94-.94-2.06-.94 2.06-2.06.94z\"/><path d=\"M17.41 7.96l-1.37-1.37c-.4-.4-.92-.59-1.43-.59-.52 0-1.04.2-1.43.59L10.3 9.45l-7.72 7.72c-.78.78-.78 2.05 0 2.83L4 21.41c.39.39.9.59 1.41.59.51 0 1.02-.2 1.41-.59l7.78-7.78 2.81-2.81c.8-.78.8-2.07 0-2.86zM5.41 20L4 18.59l7.72-7.72 1.47 1.35L5.41 20z\"/>\n",
              "  </svg>\n",
              "      </button>\n",
              "      \n",
              "  <style>\n",
              "    .colab-df-container {\n",
              "      display:flex;\n",
              "      flex-wrap:wrap;\n",
              "      gap: 12px;\n",
              "    }\n",
              "\n",
              "    .colab-df-convert {\n",
              "      background-color: #E8F0FE;\n",
              "      border: none;\n",
              "      border-radius: 50%;\n",
              "      cursor: pointer;\n",
              "      display: none;\n",
              "      fill: #1967D2;\n",
              "      height: 32px;\n",
              "      padding: 0 0 0 0;\n",
              "      width: 32px;\n",
              "    }\n",
              "\n",
              "    .colab-df-convert:hover {\n",
              "      background-color: #E2EBFA;\n",
              "      box-shadow: 0px 1px 2px rgba(60, 64, 67, 0.3), 0px 1px 3px 1px rgba(60, 64, 67, 0.15);\n",
              "      fill: #174EA6;\n",
              "    }\n",
              "\n",
              "    [theme=dark] .colab-df-convert {\n",
              "      background-color: #3B4455;\n",
              "      fill: #D2E3FC;\n",
              "    }\n",
              "\n",
              "    [theme=dark] .colab-df-convert:hover {\n",
              "      background-color: #434B5C;\n",
              "      box-shadow: 0px 1px 3px 1px rgba(0, 0, 0, 0.15);\n",
              "      filter: drop-shadow(0px 1px 2px rgba(0, 0, 0, 0.3));\n",
              "      fill: #FFFFFF;\n",
              "    }\n",
              "  </style>\n",
              "\n",
              "      <script>\n",
              "        const buttonEl =\n",
              "          document.querySelector('#df-b8714087-325d-4102-87f2-3bbf68c5dede button.colab-df-convert');\n",
              "        buttonEl.style.display =\n",
              "          google.colab.kernel.accessAllowed ? 'block' : 'none';\n",
              "\n",
              "        async function convertToInteractive(key) {\n",
              "          const element = document.querySelector('#df-b8714087-325d-4102-87f2-3bbf68c5dede');\n",
              "          const dataTable =\n",
              "            await google.colab.kernel.invokeFunction('convertToInteractive',\n",
              "                                                     [key], {});\n",
              "          if (!dataTable) return;\n",
              "\n",
              "          const docLinkHtml = 'Like what you see? Visit the ' +\n",
              "            '<a target=\"_blank\" href=https://colab.research.google.com/notebooks/data_table.ipynb>data table notebook</a>'\n",
              "            + ' to learn more about interactive tables.';\n",
              "          element.innerHTML = '';\n",
              "          dataTable['output_type'] = 'display_data';\n",
              "          await google.colab.output.renderOutput(dataTable, element);\n",
              "          const docLink = document.createElement('div');\n",
              "          docLink.innerHTML = docLinkHtml;\n",
              "          element.appendChild(docLink);\n",
              "        }\n",
              "      </script>\n",
              "    </div>\n",
              "  </div>\n",
              "  "
            ]
          },
          "metadata": {},
          "execution_count": 187
        }
      ]
    },
    {
      "cell_type": "markdown",
      "source": [
        "Importando os dados coletados pelo dispositivo da RainTech."
      ],
      "metadata": {
        "id": "nF8igdcONSoD"
      }
    },
    {
      "cell_type": "code",
      "source": [
        "dadostb = pd.read_csv('dadosTB2.csv',sep=';')\n",
        "dadostb"
      ],
      "metadata": {
        "colab": {
          "base_uri": "https://localhost:8080/",
          "height": 424
        },
        "id": "t2-5ZfjFghCc",
        "outputId": "cead6a82-6519-4e6b-d1d2-6060a8e40f76"
      },
      "execution_count": 188,
      "outputs": [
        {
          "output_type": "execute_result",
          "data": {
            "text/plain": [
              "     DT_MEDICAO  HR_MEDICAO  TEM_INS  UMD_INS\n",
              "0    01/06/2022           0    28.50    92.01\n",
              "1    01/06/2022         100    28.44    92.27\n",
              "2    01/06/2022         200    28.32    92.33\n",
              "3    01/06/2022         300    28.22    92.38\n",
              "4    01/06/2022         400    28.09    92.72\n",
              "..          ...         ...      ...      ...\n",
              "211  09/06/2022        1900    28.92    85.84\n",
              "212  09/06/2022        2000    28.89    86.14\n",
              "213  09/06/2022        2100    29.01    86.21\n",
              "214  09/06/2022        2200    28.93    86.22\n",
              "215  09/06/2022        2300    28.86    86.82\n",
              "\n",
              "[216 rows x 4 columns]"
            ],
            "text/html": [
              "\n",
              "  <div id=\"df-42a9db8b-71f5-4f3b-ad22-0cf836d5ccd7\">\n",
              "    <div class=\"colab-df-container\">\n",
              "      <div>\n",
              "<style scoped>\n",
              "    .dataframe tbody tr th:only-of-type {\n",
              "        vertical-align: middle;\n",
              "    }\n",
              "\n",
              "    .dataframe tbody tr th {\n",
              "        vertical-align: top;\n",
              "    }\n",
              "\n",
              "    .dataframe thead th {\n",
              "        text-align: right;\n",
              "    }\n",
              "</style>\n",
              "<table border=\"1\" class=\"dataframe\">\n",
              "  <thead>\n",
              "    <tr style=\"text-align: right;\">\n",
              "      <th></th>\n",
              "      <th>DT_MEDICAO</th>\n",
              "      <th>HR_MEDICAO</th>\n",
              "      <th>TEM_INS</th>\n",
              "      <th>UMD_INS</th>\n",
              "    </tr>\n",
              "  </thead>\n",
              "  <tbody>\n",
              "    <tr>\n",
              "      <th>0</th>\n",
              "      <td>01/06/2022</td>\n",
              "      <td>0</td>\n",
              "      <td>28.50</td>\n",
              "      <td>92.01</td>\n",
              "    </tr>\n",
              "    <tr>\n",
              "      <th>1</th>\n",
              "      <td>01/06/2022</td>\n",
              "      <td>100</td>\n",
              "      <td>28.44</td>\n",
              "      <td>92.27</td>\n",
              "    </tr>\n",
              "    <tr>\n",
              "      <th>2</th>\n",
              "      <td>01/06/2022</td>\n",
              "      <td>200</td>\n",
              "      <td>28.32</td>\n",
              "      <td>92.33</td>\n",
              "    </tr>\n",
              "    <tr>\n",
              "      <th>3</th>\n",
              "      <td>01/06/2022</td>\n",
              "      <td>300</td>\n",
              "      <td>28.22</td>\n",
              "      <td>92.38</td>\n",
              "    </tr>\n",
              "    <tr>\n",
              "      <th>4</th>\n",
              "      <td>01/06/2022</td>\n",
              "      <td>400</td>\n",
              "      <td>28.09</td>\n",
              "      <td>92.72</td>\n",
              "    </tr>\n",
              "    <tr>\n",
              "      <th>...</th>\n",
              "      <td>...</td>\n",
              "      <td>...</td>\n",
              "      <td>...</td>\n",
              "      <td>...</td>\n",
              "    </tr>\n",
              "    <tr>\n",
              "      <th>211</th>\n",
              "      <td>09/06/2022</td>\n",
              "      <td>1900</td>\n",
              "      <td>28.92</td>\n",
              "      <td>85.84</td>\n",
              "    </tr>\n",
              "    <tr>\n",
              "      <th>212</th>\n",
              "      <td>09/06/2022</td>\n",
              "      <td>2000</td>\n",
              "      <td>28.89</td>\n",
              "      <td>86.14</td>\n",
              "    </tr>\n",
              "    <tr>\n",
              "      <th>213</th>\n",
              "      <td>09/06/2022</td>\n",
              "      <td>2100</td>\n",
              "      <td>29.01</td>\n",
              "      <td>86.21</td>\n",
              "    </tr>\n",
              "    <tr>\n",
              "      <th>214</th>\n",
              "      <td>09/06/2022</td>\n",
              "      <td>2200</td>\n",
              "      <td>28.93</td>\n",
              "      <td>86.22</td>\n",
              "    </tr>\n",
              "    <tr>\n",
              "      <th>215</th>\n",
              "      <td>09/06/2022</td>\n",
              "      <td>2300</td>\n",
              "      <td>28.86</td>\n",
              "      <td>86.82</td>\n",
              "    </tr>\n",
              "  </tbody>\n",
              "</table>\n",
              "<p>216 rows × 4 columns</p>\n",
              "</div>\n",
              "      <button class=\"colab-df-convert\" onclick=\"convertToInteractive('df-42a9db8b-71f5-4f3b-ad22-0cf836d5ccd7')\"\n",
              "              title=\"Convert this dataframe to an interactive table.\"\n",
              "              style=\"display:none;\">\n",
              "        \n",
              "  <svg xmlns=\"http://www.w3.org/2000/svg\" height=\"24px\"viewBox=\"0 0 24 24\"\n",
              "       width=\"24px\">\n",
              "    <path d=\"M0 0h24v24H0V0z\" fill=\"none\"/>\n",
              "    <path d=\"M18.56 5.44l.94 2.06.94-2.06 2.06-.94-2.06-.94-.94-2.06-.94 2.06-2.06.94zm-11 1L8.5 8.5l.94-2.06 2.06-.94-2.06-.94L8.5 2.5l-.94 2.06-2.06.94zm10 10l.94 2.06.94-2.06 2.06-.94-2.06-.94-.94-2.06-.94 2.06-2.06.94z\"/><path d=\"M17.41 7.96l-1.37-1.37c-.4-.4-.92-.59-1.43-.59-.52 0-1.04.2-1.43.59L10.3 9.45l-7.72 7.72c-.78.78-.78 2.05 0 2.83L4 21.41c.39.39.9.59 1.41.59.51 0 1.02-.2 1.41-.59l7.78-7.78 2.81-2.81c.8-.78.8-2.07 0-2.86zM5.41 20L4 18.59l7.72-7.72 1.47 1.35L5.41 20z\"/>\n",
              "  </svg>\n",
              "      </button>\n",
              "      \n",
              "  <style>\n",
              "    .colab-df-container {\n",
              "      display:flex;\n",
              "      flex-wrap:wrap;\n",
              "      gap: 12px;\n",
              "    }\n",
              "\n",
              "    .colab-df-convert {\n",
              "      background-color: #E8F0FE;\n",
              "      border: none;\n",
              "      border-radius: 50%;\n",
              "      cursor: pointer;\n",
              "      display: none;\n",
              "      fill: #1967D2;\n",
              "      height: 32px;\n",
              "      padding: 0 0 0 0;\n",
              "      width: 32px;\n",
              "    }\n",
              "\n",
              "    .colab-df-convert:hover {\n",
              "      background-color: #E2EBFA;\n",
              "      box-shadow: 0px 1px 2px rgba(60, 64, 67, 0.3), 0px 1px 3px 1px rgba(60, 64, 67, 0.15);\n",
              "      fill: #174EA6;\n",
              "    }\n",
              "\n",
              "    [theme=dark] .colab-df-convert {\n",
              "      background-color: #3B4455;\n",
              "      fill: #D2E3FC;\n",
              "    }\n",
              "\n",
              "    [theme=dark] .colab-df-convert:hover {\n",
              "      background-color: #434B5C;\n",
              "      box-shadow: 0px 1px 3px 1px rgba(0, 0, 0, 0.15);\n",
              "      filter: drop-shadow(0px 1px 2px rgba(0, 0, 0, 0.3));\n",
              "      fill: #FFFFFF;\n",
              "    }\n",
              "  </style>\n",
              "\n",
              "      <script>\n",
              "        const buttonEl =\n",
              "          document.querySelector('#df-42a9db8b-71f5-4f3b-ad22-0cf836d5ccd7 button.colab-df-convert');\n",
              "        buttonEl.style.display =\n",
              "          google.colab.kernel.accessAllowed ? 'block' : 'none';\n",
              "\n",
              "        async function convertToInteractive(key) {\n",
              "          const element = document.querySelector('#df-42a9db8b-71f5-4f3b-ad22-0cf836d5ccd7');\n",
              "          const dataTable =\n",
              "            await google.colab.kernel.invokeFunction('convertToInteractive',\n",
              "                                                     [key], {});\n",
              "          if (!dataTable) return;\n",
              "\n",
              "          const docLinkHtml = 'Like what you see? Visit the ' +\n",
              "            '<a target=\"_blank\" href=https://colab.research.google.com/notebooks/data_table.ipynb>data table notebook</a>'\n",
              "            + ' to learn more about interactive tables.';\n",
              "          element.innerHTML = '';\n",
              "          dataTable['output_type'] = 'display_data';\n",
              "          await google.colab.output.renderOutput(dataTable, element);\n",
              "          const docLink = document.createElement('div');\n",
              "          docLink.innerHTML = docLinkHtml;\n",
              "          element.appendChild(docLink);\n",
              "        }\n",
              "      </script>\n",
              "    </div>\n",
              "  </div>\n",
              "  "
            ]
          },
          "metadata": {},
          "execution_count": 188
        }
      ]
    },
    {
      "cell_type": "markdown",
      "source": [
        "# Organizando os dados com os quais desejo trabalhar."
      ],
      "metadata": {
        "id": "BSGraczKRBAJ"
      }
    },
    {
      "cell_type": "markdown",
      "source": [
        "Separando temperatura e umidade de ambos os DataFrames (dados_filtrados e dadostb)."
      ],
      "metadata": {
        "id": "T8HyL4whP7Zq"
      }
    },
    {
      "cell_type": "code",
      "source": [
        "temp_inmet = dados_filtrados.TEM_INS\n",
        "umid_inmet = dados_filtrados.UMD_INS\n",
        "temp_tb = dadostb.TEM_INS\n",
        "umid_tb = dadostb.UMD_INS"
      ],
      "metadata": {
        "id": "TrAQnBXQ86fE"
      },
      "execution_count": 189,
      "outputs": []
    },
    {
      "cell_type": "markdown",
      "source": [
        "Após realizar a separação, uno esses conjuntos em um DataFrame, com o nome da coluna informando de onde cada variável foi retirada. Além disso, aproveito para já criar uma coluna cujo valor represente o cálculo do erro simples (previsão - real) de cada linha."
      ],
      "metadata": {
        "id": "XqYhx6O5UsLe"
      }
    },
    {
      "cell_type": "code",
      "source": [
        "data = {\"DT_MEDICAO\": dados_filtrados.DT_MEDICAO, \"HR_MEDICAO\": dadostb.HR_MEDICAO, \"TEM_TB\": temp_tb, \"TEM_INMET\": temp_inmet, 'UMD_TB': umid_tb, 'UMD_INMET': umid_inmet, 'ERRO_TEM': (temp_tb - temp_inmet), 'ERRO_UMD': (umid_tb - umid_inmet)}\n",
        "df = pd.concat(data, axis=1)\n",
        "df"
      ],
      "metadata": {
        "colab": {
          "base_uri": "https://localhost:8080/",
          "height": 424
        },
        "id": "7vp1dBbOSPmT",
        "outputId": "63c4de01-cf19-49fe-8666-a51a98c87bfc"
      },
      "execution_count": 190,
      "outputs": [
        {
          "output_type": "execute_result",
          "data": {
            "text/plain": [
              "     DT_MEDICAO  HR_MEDICAO  TEM_TB  TEM_INMET  UMD_TB  UMD_INMET  ERRO_TEM  \\\n",
              "0    2022-06-01           0   28.50       23.7   92.01         98      4.80   \n",
              "1    2022-06-01         100   28.44       23.9   92.27         98      4.54   \n",
              "2    2022-06-01         200   28.32       24.0   92.33         98      4.32   \n",
              "3    2022-06-01         300   28.22       23.8   92.38         98      4.42   \n",
              "4    2022-06-01         400   28.09       23.8   92.72         98      4.29   \n",
              "..          ...         ...     ...        ...     ...        ...       ...   \n",
              "211  2022-06-09        1900   28.92       30.7   85.84         74     -1.78   \n",
              "212  2022-06-09        2000   28.89       23.3   86.14         96      5.59   \n",
              "213  2022-06-09        2100   29.01       23.4   86.21         97      5.61   \n",
              "214  2022-06-09        2200   28.93       23.4   86.22         97      5.53   \n",
              "215  2022-06-09        2300   28.86       23.3   86.82         96      5.56   \n",
              "\n",
              "     ERRO_UMD  \n",
              "0       -5.99  \n",
              "1       -5.73  \n",
              "2       -5.67  \n",
              "3       -5.62  \n",
              "4       -5.28  \n",
              "..        ...  \n",
              "211     11.84  \n",
              "212     -9.86  \n",
              "213    -10.79  \n",
              "214    -10.78  \n",
              "215     -9.18  \n",
              "\n",
              "[216 rows x 8 columns]"
            ],
            "text/html": [
              "\n",
              "  <div id=\"df-72eb7a87-7057-4276-a096-d6e4991f17f8\">\n",
              "    <div class=\"colab-df-container\">\n",
              "      <div>\n",
              "<style scoped>\n",
              "    .dataframe tbody tr th:only-of-type {\n",
              "        vertical-align: middle;\n",
              "    }\n",
              "\n",
              "    .dataframe tbody tr th {\n",
              "        vertical-align: top;\n",
              "    }\n",
              "\n",
              "    .dataframe thead th {\n",
              "        text-align: right;\n",
              "    }\n",
              "</style>\n",
              "<table border=\"1\" class=\"dataframe\">\n",
              "  <thead>\n",
              "    <tr style=\"text-align: right;\">\n",
              "      <th></th>\n",
              "      <th>DT_MEDICAO</th>\n",
              "      <th>HR_MEDICAO</th>\n",
              "      <th>TEM_TB</th>\n",
              "      <th>TEM_INMET</th>\n",
              "      <th>UMD_TB</th>\n",
              "      <th>UMD_INMET</th>\n",
              "      <th>ERRO_TEM</th>\n",
              "      <th>ERRO_UMD</th>\n",
              "    </tr>\n",
              "  </thead>\n",
              "  <tbody>\n",
              "    <tr>\n",
              "      <th>0</th>\n",
              "      <td>2022-06-01</td>\n",
              "      <td>0</td>\n",
              "      <td>28.50</td>\n",
              "      <td>23.7</td>\n",
              "      <td>92.01</td>\n",
              "      <td>98</td>\n",
              "      <td>4.80</td>\n",
              "      <td>-5.99</td>\n",
              "    </tr>\n",
              "    <tr>\n",
              "      <th>1</th>\n",
              "      <td>2022-06-01</td>\n",
              "      <td>100</td>\n",
              "      <td>28.44</td>\n",
              "      <td>23.9</td>\n",
              "      <td>92.27</td>\n",
              "      <td>98</td>\n",
              "      <td>4.54</td>\n",
              "      <td>-5.73</td>\n",
              "    </tr>\n",
              "    <tr>\n",
              "      <th>2</th>\n",
              "      <td>2022-06-01</td>\n",
              "      <td>200</td>\n",
              "      <td>28.32</td>\n",
              "      <td>24.0</td>\n",
              "      <td>92.33</td>\n",
              "      <td>98</td>\n",
              "      <td>4.32</td>\n",
              "      <td>-5.67</td>\n",
              "    </tr>\n",
              "    <tr>\n",
              "      <th>3</th>\n",
              "      <td>2022-06-01</td>\n",
              "      <td>300</td>\n",
              "      <td>28.22</td>\n",
              "      <td>23.8</td>\n",
              "      <td>92.38</td>\n",
              "      <td>98</td>\n",
              "      <td>4.42</td>\n",
              "      <td>-5.62</td>\n",
              "    </tr>\n",
              "    <tr>\n",
              "      <th>4</th>\n",
              "      <td>2022-06-01</td>\n",
              "      <td>400</td>\n",
              "      <td>28.09</td>\n",
              "      <td>23.8</td>\n",
              "      <td>92.72</td>\n",
              "      <td>98</td>\n",
              "      <td>4.29</td>\n",
              "      <td>-5.28</td>\n",
              "    </tr>\n",
              "    <tr>\n",
              "      <th>...</th>\n",
              "      <td>...</td>\n",
              "      <td>...</td>\n",
              "      <td>...</td>\n",
              "      <td>...</td>\n",
              "      <td>...</td>\n",
              "      <td>...</td>\n",
              "      <td>...</td>\n",
              "      <td>...</td>\n",
              "    </tr>\n",
              "    <tr>\n",
              "      <th>211</th>\n",
              "      <td>2022-06-09</td>\n",
              "      <td>1900</td>\n",
              "      <td>28.92</td>\n",
              "      <td>30.7</td>\n",
              "      <td>85.84</td>\n",
              "      <td>74</td>\n",
              "      <td>-1.78</td>\n",
              "      <td>11.84</td>\n",
              "    </tr>\n",
              "    <tr>\n",
              "      <th>212</th>\n",
              "      <td>2022-06-09</td>\n",
              "      <td>2000</td>\n",
              "      <td>28.89</td>\n",
              "      <td>23.3</td>\n",
              "      <td>86.14</td>\n",
              "      <td>96</td>\n",
              "      <td>5.59</td>\n",
              "      <td>-9.86</td>\n",
              "    </tr>\n",
              "    <tr>\n",
              "      <th>213</th>\n",
              "      <td>2022-06-09</td>\n",
              "      <td>2100</td>\n",
              "      <td>29.01</td>\n",
              "      <td>23.4</td>\n",
              "      <td>86.21</td>\n",
              "      <td>97</td>\n",
              "      <td>5.61</td>\n",
              "      <td>-10.79</td>\n",
              "    </tr>\n",
              "    <tr>\n",
              "      <th>214</th>\n",
              "      <td>2022-06-09</td>\n",
              "      <td>2200</td>\n",
              "      <td>28.93</td>\n",
              "      <td>23.4</td>\n",
              "      <td>86.22</td>\n",
              "      <td>97</td>\n",
              "      <td>5.53</td>\n",
              "      <td>-10.78</td>\n",
              "    </tr>\n",
              "    <tr>\n",
              "      <th>215</th>\n",
              "      <td>2022-06-09</td>\n",
              "      <td>2300</td>\n",
              "      <td>28.86</td>\n",
              "      <td>23.3</td>\n",
              "      <td>86.82</td>\n",
              "      <td>96</td>\n",
              "      <td>5.56</td>\n",
              "      <td>-9.18</td>\n",
              "    </tr>\n",
              "  </tbody>\n",
              "</table>\n",
              "<p>216 rows × 8 columns</p>\n",
              "</div>\n",
              "      <button class=\"colab-df-convert\" onclick=\"convertToInteractive('df-72eb7a87-7057-4276-a096-d6e4991f17f8')\"\n",
              "              title=\"Convert this dataframe to an interactive table.\"\n",
              "              style=\"display:none;\">\n",
              "        \n",
              "  <svg xmlns=\"http://www.w3.org/2000/svg\" height=\"24px\"viewBox=\"0 0 24 24\"\n",
              "       width=\"24px\">\n",
              "    <path d=\"M0 0h24v24H0V0z\" fill=\"none\"/>\n",
              "    <path d=\"M18.56 5.44l.94 2.06.94-2.06 2.06-.94-2.06-.94-.94-2.06-.94 2.06-2.06.94zm-11 1L8.5 8.5l.94-2.06 2.06-.94-2.06-.94L8.5 2.5l-.94 2.06-2.06.94zm10 10l.94 2.06.94-2.06 2.06-.94-2.06-.94-.94-2.06-.94 2.06-2.06.94z\"/><path d=\"M17.41 7.96l-1.37-1.37c-.4-.4-.92-.59-1.43-.59-.52 0-1.04.2-1.43.59L10.3 9.45l-7.72 7.72c-.78.78-.78 2.05 0 2.83L4 21.41c.39.39.9.59 1.41.59.51 0 1.02-.2 1.41-.59l7.78-7.78 2.81-2.81c.8-.78.8-2.07 0-2.86zM5.41 20L4 18.59l7.72-7.72 1.47 1.35L5.41 20z\"/>\n",
              "  </svg>\n",
              "      </button>\n",
              "      \n",
              "  <style>\n",
              "    .colab-df-container {\n",
              "      display:flex;\n",
              "      flex-wrap:wrap;\n",
              "      gap: 12px;\n",
              "    }\n",
              "\n",
              "    .colab-df-convert {\n",
              "      background-color: #E8F0FE;\n",
              "      border: none;\n",
              "      border-radius: 50%;\n",
              "      cursor: pointer;\n",
              "      display: none;\n",
              "      fill: #1967D2;\n",
              "      height: 32px;\n",
              "      padding: 0 0 0 0;\n",
              "      width: 32px;\n",
              "    }\n",
              "\n",
              "    .colab-df-convert:hover {\n",
              "      background-color: #E2EBFA;\n",
              "      box-shadow: 0px 1px 2px rgba(60, 64, 67, 0.3), 0px 1px 3px 1px rgba(60, 64, 67, 0.15);\n",
              "      fill: #174EA6;\n",
              "    }\n",
              "\n",
              "    [theme=dark] .colab-df-convert {\n",
              "      background-color: #3B4455;\n",
              "      fill: #D2E3FC;\n",
              "    }\n",
              "\n",
              "    [theme=dark] .colab-df-convert:hover {\n",
              "      background-color: #434B5C;\n",
              "      box-shadow: 0px 1px 3px 1px rgba(0, 0, 0, 0.15);\n",
              "      filter: drop-shadow(0px 1px 2px rgba(0, 0, 0, 0.3));\n",
              "      fill: #FFFFFF;\n",
              "    }\n",
              "  </style>\n",
              "\n",
              "      <script>\n",
              "        const buttonEl =\n",
              "          document.querySelector('#df-72eb7a87-7057-4276-a096-d6e4991f17f8 button.colab-df-convert');\n",
              "        buttonEl.style.display =\n",
              "          google.colab.kernel.accessAllowed ? 'block' : 'none';\n",
              "\n",
              "        async function convertToInteractive(key) {\n",
              "          const element = document.querySelector('#df-72eb7a87-7057-4276-a096-d6e4991f17f8');\n",
              "          const dataTable =\n",
              "            await google.colab.kernel.invokeFunction('convertToInteractive',\n",
              "                                                     [key], {});\n",
              "          if (!dataTable) return;\n",
              "\n",
              "          const docLinkHtml = 'Like what you see? Visit the ' +\n",
              "            '<a target=\"_blank\" href=https://colab.research.google.com/notebooks/data_table.ipynb>data table notebook</a>'\n",
              "            + ' to learn more about interactive tables.';\n",
              "          element.innerHTML = '';\n",
              "          dataTable['output_type'] = 'display_data';\n",
              "          await google.colab.output.renderOutput(dataTable, element);\n",
              "          const docLink = document.createElement('div');\n",
              "          docLink.innerHTML = docLinkHtml;\n",
              "          element.appendChild(docLink);\n",
              "        }\n",
              "      </script>\n",
              "    </div>\n",
              "  </div>\n",
              "  "
            ]
          },
          "metadata": {},
          "execution_count": 190
        }
      ]
    },
    {
      "cell_type": "markdown",
      "source": [
        "Criando um indice do tipo data-hora e atribuindo ao DataFrame."
      ],
      "metadata": {
        "id": "Twqd36tBWXU2"
      }
    },
    {
      "cell_type": "code",
      "source": [
        "indice = pd.date_range('2022-01-06', periods = len(dadostb.TEM_INS), freq='1H')\n",
        "indice"
      ],
      "metadata": {
        "colab": {
          "base_uri": "https://localhost:8080/"
        },
        "id": "nRGQzgXeTV74",
        "outputId": "d524f64c-8de3-4bb9-e1d9-3c224fb44f97"
      },
      "execution_count": 191,
      "outputs": [
        {
          "output_type": "execute_result",
          "data": {
            "text/plain": [
              "DatetimeIndex(['2022-01-06 00:00:00', '2022-01-06 01:00:00',\n",
              "               '2022-01-06 02:00:00', '2022-01-06 03:00:00',\n",
              "               '2022-01-06 04:00:00', '2022-01-06 05:00:00',\n",
              "               '2022-01-06 06:00:00', '2022-01-06 07:00:00',\n",
              "               '2022-01-06 08:00:00', '2022-01-06 09:00:00',\n",
              "               ...\n",
              "               '2022-01-14 14:00:00', '2022-01-14 15:00:00',\n",
              "               '2022-01-14 16:00:00', '2022-01-14 17:00:00',\n",
              "               '2022-01-14 18:00:00', '2022-01-14 19:00:00',\n",
              "               '2022-01-14 20:00:00', '2022-01-14 21:00:00',\n",
              "               '2022-01-14 22:00:00', '2022-01-14 23:00:00'],\n",
              "              dtype='datetime64[ns]', length=216, freq='H')"
            ]
          },
          "metadata": {},
          "execution_count": 191
        }
      ]
    },
    {
      "cell_type": "code",
      "source": [
        "df.set_index(indice, inplace=True)\n",
        "df.head()"
      ],
      "metadata": {
        "colab": {
          "base_uri": "https://localhost:8080/",
          "height": 206
        },
        "id": "zOpKTec6XN9e",
        "outputId": "d512f668-3ae5-47b3-dcb9-4460e4b5b5bc"
      },
      "execution_count": 192,
      "outputs": [
        {
          "output_type": "execute_result",
          "data": {
            "text/plain": [
              "                     DT_MEDICAO  HR_MEDICAO  TEM_TB  TEM_INMET  UMD_TB  \\\n",
              "2022-01-06 00:00:00  2022-06-01           0   28.50       23.7   92.01   \n",
              "2022-01-06 01:00:00  2022-06-01         100   28.44       23.9   92.27   \n",
              "2022-01-06 02:00:00  2022-06-01         200   28.32       24.0   92.33   \n",
              "2022-01-06 03:00:00  2022-06-01         300   28.22       23.8   92.38   \n",
              "2022-01-06 04:00:00  2022-06-01         400   28.09       23.8   92.72   \n",
              "\n",
              "                     UMD_INMET  ERRO_TEM  ERRO_UMD  \n",
              "2022-01-06 00:00:00         98      4.80     -5.99  \n",
              "2022-01-06 01:00:00         98      4.54     -5.73  \n",
              "2022-01-06 02:00:00         98      4.32     -5.67  \n",
              "2022-01-06 03:00:00         98      4.42     -5.62  \n",
              "2022-01-06 04:00:00         98      4.29     -5.28  "
            ],
            "text/html": [
              "\n",
              "  <div id=\"df-63bc0a97-9700-402b-9ccc-161f300b2984\">\n",
              "    <div class=\"colab-df-container\">\n",
              "      <div>\n",
              "<style scoped>\n",
              "    .dataframe tbody tr th:only-of-type {\n",
              "        vertical-align: middle;\n",
              "    }\n",
              "\n",
              "    .dataframe tbody tr th {\n",
              "        vertical-align: top;\n",
              "    }\n",
              "\n",
              "    .dataframe thead th {\n",
              "        text-align: right;\n",
              "    }\n",
              "</style>\n",
              "<table border=\"1\" class=\"dataframe\">\n",
              "  <thead>\n",
              "    <tr style=\"text-align: right;\">\n",
              "      <th></th>\n",
              "      <th>DT_MEDICAO</th>\n",
              "      <th>HR_MEDICAO</th>\n",
              "      <th>TEM_TB</th>\n",
              "      <th>TEM_INMET</th>\n",
              "      <th>UMD_TB</th>\n",
              "      <th>UMD_INMET</th>\n",
              "      <th>ERRO_TEM</th>\n",
              "      <th>ERRO_UMD</th>\n",
              "    </tr>\n",
              "  </thead>\n",
              "  <tbody>\n",
              "    <tr>\n",
              "      <th>2022-01-06 00:00:00</th>\n",
              "      <td>2022-06-01</td>\n",
              "      <td>0</td>\n",
              "      <td>28.50</td>\n",
              "      <td>23.7</td>\n",
              "      <td>92.01</td>\n",
              "      <td>98</td>\n",
              "      <td>4.80</td>\n",
              "      <td>-5.99</td>\n",
              "    </tr>\n",
              "    <tr>\n",
              "      <th>2022-01-06 01:00:00</th>\n",
              "      <td>2022-06-01</td>\n",
              "      <td>100</td>\n",
              "      <td>28.44</td>\n",
              "      <td>23.9</td>\n",
              "      <td>92.27</td>\n",
              "      <td>98</td>\n",
              "      <td>4.54</td>\n",
              "      <td>-5.73</td>\n",
              "    </tr>\n",
              "    <tr>\n",
              "      <th>2022-01-06 02:00:00</th>\n",
              "      <td>2022-06-01</td>\n",
              "      <td>200</td>\n",
              "      <td>28.32</td>\n",
              "      <td>24.0</td>\n",
              "      <td>92.33</td>\n",
              "      <td>98</td>\n",
              "      <td>4.32</td>\n",
              "      <td>-5.67</td>\n",
              "    </tr>\n",
              "    <tr>\n",
              "      <th>2022-01-06 03:00:00</th>\n",
              "      <td>2022-06-01</td>\n",
              "      <td>300</td>\n",
              "      <td>28.22</td>\n",
              "      <td>23.8</td>\n",
              "      <td>92.38</td>\n",
              "      <td>98</td>\n",
              "      <td>4.42</td>\n",
              "      <td>-5.62</td>\n",
              "    </tr>\n",
              "    <tr>\n",
              "      <th>2022-01-06 04:00:00</th>\n",
              "      <td>2022-06-01</td>\n",
              "      <td>400</td>\n",
              "      <td>28.09</td>\n",
              "      <td>23.8</td>\n",
              "      <td>92.72</td>\n",
              "      <td>98</td>\n",
              "      <td>4.29</td>\n",
              "      <td>-5.28</td>\n",
              "    </tr>\n",
              "  </tbody>\n",
              "</table>\n",
              "</div>\n",
              "      <button class=\"colab-df-convert\" onclick=\"convertToInteractive('df-63bc0a97-9700-402b-9ccc-161f300b2984')\"\n",
              "              title=\"Convert this dataframe to an interactive table.\"\n",
              "              style=\"display:none;\">\n",
              "        \n",
              "  <svg xmlns=\"http://www.w3.org/2000/svg\" height=\"24px\"viewBox=\"0 0 24 24\"\n",
              "       width=\"24px\">\n",
              "    <path d=\"M0 0h24v24H0V0z\" fill=\"none\"/>\n",
              "    <path d=\"M18.56 5.44l.94 2.06.94-2.06 2.06-.94-2.06-.94-.94-2.06-.94 2.06-2.06.94zm-11 1L8.5 8.5l.94-2.06 2.06-.94-2.06-.94L8.5 2.5l-.94 2.06-2.06.94zm10 10l.94 2.06.94-2.06 2.06-.94-2.06-.94-.94-2.06-.94 2.06-2.06.94z\"/><path d=\"M17.41 7.96l-1.37-1.37c-.4-.4-.92-.59-1.43-.59-.52 0-1.04.2-1.43.59L10.3 9.45l-7.72 7.72c-.78.78-.78 2.05 0 2.83L4 21.41c.39.39.9.59 1.41.59.51 0 1.02-.2 1.41-.59l7.78-7.78 2.81-2.81c.8-.78.8-2.07 0-2.86zM5.41 20L4 18.59l7.72-7.72 1.47 1.35L5.41 20z\"/>\n",
              "  </svg>\n",
              "      </button>\n",
              "      \n",
              "  <style>\n",
              "    .colab-df-container {\n",
              "      display:flex;\n",
              "      flex-wrap:wrap;\n",
              "      gap: 12px;\n",
              "    }\n",
              "\n",
              "    .colab-df-convert {\n",
              "      background-color: #E8F0FE;\n",
              "      border: none;\n",
              "      border-radius: 50%;\n",
              "      cursor: pointer;\n",
              "      display: none;\n",
              "      fill: #1967D2;\n",
              "      height: 32px;\n",
              "      padding: 0 0 0 0;\n",
              "      width: 32px;\n",
              "    }\n",
              "\n",
              "    .colab-df-convert:hover {\n",
              "      background-color: #E2EBFA;\n",
              "      box-shadow: 0px 1px 2px rgba(60, 64, 67, 0.3), 0px 1px 3px 1px rgba(60, 64, 67, 0.15);\n",
              "      fill: #174EA6;\n",
              "    }\n",
              "\n",
              "    [theme=dark] .colab-df-convert {\n",
              "      background-color: #3B4455;\n",
              "      fill: #D2E3FC;\n",
              "    }\n",
              "\n",
              "    [theme=dark] .colab-df-convert:hover {\n",
              "      background-color: #434B5C;\n",
              "      box-shadow: 0px 1px 3px 1px rgba(0, 0, 0, 0.15);\n",
              "      filter: drop-shadow(0px 1px 2px rgba(0, 0, 0, 0.3));\n",
              "      fill: #FFFFFF;\n",
              "    }\n",
              "  </style>\n",
              "\n",
              "      <script>\n",
              "        const buttonEl =\n",
              "          document.querySelector('#df-63bc0a97-9700-402b-9ccc-161f300b2984 button.colab-df-convert');\n",
              "        buttonEl.style.display =\n",
              "          google.colab.kernel.accessAllowed ? 'block' : 'none';\n",
              "\n",
              "        async function convertToInteractive(key) {\n",
              "          const element = document.querySelector('#df-63bc0a97-9700-402b-9ccc-161f300b2984');\n",
              "          const dataTable =\n",
              "            await google.colab.kernel.invokeFunction('convertToInteractive',\n",
              "                                                     [key], {});\n",
              "          if (!dataTable) return;\n",
              "\n",
              "          const docLinkHtml = 'Like what you see? Visit the ' +\n",
              "            '<a target=\"_blank\" href=https://colab.research.google.com/notebooks/data_table.ipynb>data table notebook</a>'\n",
              "            + ' to learn more about interactive tables.';\n",
              "          element.innerHTML = '';\n",
              "          dataTable['output_type'] = 'display_data';\n",
              "          await google.colab.output.renderOutput(dataTable, element);\n",
              "          const docLink = document.createElement('div');\n",
              "          docLink.innerHTML = docLinkHtml;\n",
              "          element.appendChild(docLink);\n",
              "        }\n",
              "      </script>\n",
              "    </div>\n",
              "  </div>\n",
              "  "
            ]
          },
          "metadata": {},
          "execution_count": 192
        }
      ]
    },
    {
      "cell_type": "markdown",
      "source": [
        "# Métrica de avaliação do erro médio\n"
      ],
      "metadata": {
        "id": "CJpg6zbibLWm"
      }
    },
    {
      "cell_type": "markdown",
      "source": [
        "Primeiro farei uma breve comparação entre os resultados obtidos a partir dos modelos RMSE e MAE, para então posteriormente explicar o porquê de escolher o RMSE para este caso."
      ],
      "metadata": {
        "id": "uaauCwoobq05"
      }
    },
    {
      "cell_type": "markdown",
      "source": [
        "RMSE para temperatura e umidade do ar."
      ],
      "metadata": {
        "id": "OMiqi2tQexsx"
      }
    },
    {
      "cell_type": "code",
      "source": [
        "from numpy import sqrt\n",
        "from sklearn.metrics import mean_squared_error\n",
        "\n",
        "rmse_temp = sqrt(mean_squared_error(df.TEM_TB, df.TEM_INMET))\n",
        "rmse_umid = sqrt(mean_squared_error(df.UMD_TB, df.UMD_INMET))\n",
        "print('RMSE da temperatura: %.3f' %rmse_temp + '\\nRMSE da umidade: %.3f' %rmse_umid)"
      ],
      "metadata": {
        "colab": {
          "base_uri": "https://localhost:8080/"
        },
        "id": "z850jv6Abp3k",
        "outputId": "93ea6e98-cba5-463e-843a-7ba0928cff1f"
      },
      "execution_count": 193,
      "outputs": [
        {
          "output_type": "stream",
          "name": "stdout",
          "text": [
            "RMSE da temperatura: 3.704\n",
            "RMSE da umidade: 9.926\n"
          ]
        }
      ]
    },
    {
      "cell_type": "markdown",
      "source": [
        "MAE para temperatura e umidade do ar."
      ],
      "metadata": {
        "id": "ZYbOAAkmg1Ls"
      }
    },
    {
      "cell_type": "code",
      "source": [
        "from sklearn.metrics import mean_absolute_error\n",
        "\n",
        "mae_temp = mean_absolute_error(df.TEM_TB, df.TEM_INMET)\n",
        "mae_umid = mean_absolute_error(df.UMD_TB, df.UMD_INMET)\n",
        "print('MAE da temperatura: %.3f' %mae_temp + '\\nMAE da umidade: %.3f' %mae_umid)"
      ],
      "metadata": {
        "colab": {
          "base_uri": "https://localhost:8080/"
        },
        "id": "kUKZ7qIgg2Lb",
        "outputId": "7afd67e2-01bc-47c2-d683-8434df2e63a8"
      },
      "execution_count": 194,
      "outputs": [
        {
          "output_type": "stream",
          "name": "stdout",
          "text": [
            "MAE da temperatura: 3.269\n",
            "MAE da umidade: 7.933\n"
          ]
        }
      ]
    },
    {
      "cell_type": "markdown",
      "source": [
        "Se fosse para analisarmos somente a temperatura, provavelmente a escolheria seria pelo modelo MAE, isso porque os resultados de rmse_temp e mae_temp são bem próximos, porém como para a variável umidade o RMSE deu um valor significativamente maior que o MAE (mostrando que temos erros relativamente grandes) iremos trabalhar com o RMSE."
      ],
      "metadata": {
        "id": "LDfuzWj7i3QL"
      }
    },
    {
      "cell_type": "markdown",
      "source": [
        "# Temperatura"
      ],
      "metadata": {
        "id": "-Li_sqsGl2R_"
      }
    },
    {
      "cell_type": "markdown",
      "source": [
        "Como vimos anteriormente o RMSE para temperatura é dado por:"
      ],
      "metadata": {
        "id": "LG1FHrgM4tix"
      }
    },
    {
      "cell_type": "code",
      "source": [
        "rmse_temp = sqrt(mean_squared_error(df.TEM_TB, df.TEM_INMET))\n",
        "print('RMSE da temperatura: %.3f' %rmse_temp)"
      ],
      "metadata": {
        "colab": {
          "base_uri": "https://localhost:8080/"
        },
        "id": "WA0MLAiw4uGi",
        "outputId": "21f19b00-2165-4ee3-887d-3d0159c2a60a"
      },
      "execution_count": 195,
      "outputs": [
        {
          "output_type": "stream",
          "name": "stdout",
          "text": [
            "RMSE da temperatura: 3.704\n"
          ]
        }
      ]
    },
    {
      "cell_type": "markdown",
      "source": [
        "A análise das medidas descritivas pode ser realizada de forma global ou por dia, neste primeiro momento farei das duas formas, para demonstrar a sumarização dos dados e utilizar outros recursos como a função groupby()."
      ],
      "metadata": {
        "id": "2VrJixj91gCc"
      }
    },
    {
      "cell_type": "markdown",
      "source": [
        "Escolhendo a data de medição como conjunto de união, para verificar as medidas dos erros por dia."
      ],
      "metadata": {
        "id": "tMdbDZ-a2AZc"
      }
    },
    {
      "cell_type": "code",
      "source": [
        "df.groupby('DT_MEDICAO')\n",
        "df.groupby('DT_MEDICAO').count()\n",
        "df.groupby('DT_MEDICAO')['ERRO_TEM']"
      ],
      "metadata": {
        "colab": {
          "base_uri": "https://localhost:8080/"
        },
        "id": "yRI77V7wz7H-",
        "outputId": "8aadb768-e832-490a-bf12-f105e7b6aade"
      },
      "execution_count": 197,
      "outputs": [
        {
          "output_type": "execute_result",
          "data": {
            "text/plain": [
              "<pandas.core.groupby.generic.SeriesGroupBy object at 0x7efccda81090>"
            ]
          },
          "metadata": {},
          "execution_count": 197
        }
      ]
    },
    {
      "cell_type": "markdown",
      "source": [
        "Aqui poderia ter escolhido utilizar as funções de forma direta como median para mediana, std para desvio padrão, max e min para máximo e mínimo respectivamente, porém optei por utilizar a função describe e obter todos em uma única tabela."
      ],
      "metadata": {
        "id": "u8LDnI4g2m08"
      }
    },
    {
      "cell_type": "markdown",
      "source": [
        "Pode-se notar que a tabela possui todas as métricas desejadas para avaliação, desde o mínimo e máximo, até mediana, primeiro e terceiro quartíl, representandos pelas colunas 50%, 25% e 75% respectivamente "
      ],
      "metadata": {
        "id": "xMXIlchF3C_0"
      }
    },
    {
      "cell_type": "code",
      "source": [
        "df.groupby('DT_MEDICAO')['ERRO_TEM'].describe()"
      ],
      "metadata": {
        "colab": {
          "base_uri": "https://localhost:8080/",
          "height": 363
        },
        "id": "3Pxaug4I0jIh",
        "outputId": "0971df1e-1ce1-4c0f-defa-dd9ff7fdfd16"
      },
      "execution_count": 199,
      "outputs": [
        {
          "output_type": "execute_result",
          "data": {
            "text/plain": [
              "            count      mean       std   min     25%    50%     75%   max\n",
              "DT_MEDICAO                                                              \n",
              "2022-06-01   24.0  2.661250  2.371049 -1.42  0.5675  4.300  4.4450  4.99\n",
              "2022-06-02   24.0  2.680417  2.233818 -2.35  1.2025  3.645  4.3500  4.67\n",
              "2022-06-03   24.0  2.962083  2.442194 -1.92  2.3750  4.220  4.7075  5.08\n",
              "2022-06-04   24.0  2.974583  2.210023 -2.95  2.1975  3.890  4.2800  5.99\n",
              "2022-06-05   24.0  3.012917  2.686333 -1.97  0.8250  4.370  4.8850  5.27\n",
              "2022-06-06   24.0  2.492083  2.576577 -2.02 -0.0425  3.945  4.3025  6.21\n",
              "2022-06-07   24.0  3.152917  2.052444 -0.46  1.5850  3.940  4.5875  5.51\n",
              "2022-06-08   24.0  2.877917  2.218244 -2.07  0.8150  4.060  4.5350  5.32\n",
              "2022-06-09   24.0  3.015833  2.586508 -1.78 -0.0075  4.420  4.8700  5.61"
            ],
            "text/html": [
              "\n",
              "  <div id=\"df-584b3798-4db7-4355-911a-267e98dcb32b\">\n",
              "    <div class=\"colab-df-container\">\n",
              "      <div>\n",
              "<style scoped>\n",
              "    .dataframe tbody tr th:only-of-type {\n",
              "        vertical-align: middle;\n",
              "    }\n",
              "\n",
              "    .dataframe tbody tr th {\n",
              "        vertical-align: top;\n",
              "    }\n",
              "\n",
              "    .dataframe thead th {\n",
              "        text-align: right;\n",
              "    }\n",
              "</style>\n",
              "<table border=\"1\" class=\"dataframe\">\n",
              "  <thead>\n",
              "    <tr style=\"text-align: right;\">\n",
              "      <th></th>\n",
              "      <th>count</th>\n",
              "      <th>mean</th>\n",
              "      <th>std</th>\n",
              "      <th>min</th>\n",
              "      <th>25%</th>\n",
              "      <th>50%</th>\n",
              "      <th>75%</th>\n",
              "      <th>max</th>\n",
              "    </tr>\n",
              "    <tr>\n",
              "      <th>DT_MEDICAO</th>\n",
              "      <th></th>\n",
              "      <th></th>\n",
              "      <th></th>\n",
              "      <th></th>\n",
              "      <th></th>\n",
              "      <th></th>\n",
              "      <th></th>\n",
              "      <th></th>\n",
              "    </tr>\n",
              "  </thead>\n",
              "  <tbody>\n",
              "    <tr>\n",
              "      <th>2022-06-01</th>\n",
              "      <td>24.0</td>\n",
              "      <td>2.661250</td>\n",
              "      <td>2.371049</td>\n",
              "      <td>-1.42</td>\n",
              "      <td>0.5675</td>\n",
              "      <td>4.300</td>\n",
              "      <td>4.4450</td>\n",
              "      <td>4.99</td>\n",
              "    </tr>\n",
              "    <tr>\n",
              "      <th>2022-06-02</th>\n",
              "      <td>24.0</td>\n",
              "      <td>2.680417</td>\n",
              "      <td>2.233818</td>\n",
              "      <td>-2.35</td>\n",
              "      <td>1.2025</td>\n",
              "      <td>3.645</td>\n",
              "      <td>4.3500</td>\n",
              "      <td>4.67</td>\n",
              "    </tr>\n",
              "    <tr>\n",
              "      <th>2022-06-03</th>\n",
              "      <td>24.0</td>\n",
              "      <td>2.962083</td>\n",
              "      <td>2.442194</td>\n",
              "      <td>-1.92</td>\n",
              "      <td>2.3750</td>\n",
              "      <td>4.220</td>\n",
              "      <td>4.7075</td>\n",
              "      <td>5.08</td>\n",
              "    </tr>\n",
              "    <tr>\n",
              "      <th>2022-06-04</th>\n",
              "      <td>24.0</td>\n",
              "      <td>2.974583</td>\n",
              "      <td>2.210023</td>\n",
              "      <td>-2.95</td>\n",
              "      <td>2.1975</td>\n",
              "      <td>3.890</td>\n",
              "      <td>4.2800</td>\n",
              "      <td>5.99</td>\n",
              "    </tr>\n",
              "    <tr>\n",
              "      <th>2022-06-05</th>\n",
              "      <td>24.0</td>\n",
              "      <td>3.012917</td>\n",
              "      <td>2.686333</td>\n",
              "      <td>-1.97</td>\n",
              "      <td>0.8250</td>\n",
              "      <td>4.370</td>\n",
              "      <td>4.8850</td>\n",
              "      <td>5.27</td>\n",
              "    </tr>\n",
              "    <tr>\n",
              "      <th>2022-06-06</th>\n",
              "      <td>24.0</td>\n",
              "      <td>2.492083</td>\n",
              "      <td>2.576577</td>\n",
              "      <td>-2.02</td>\n",
              "      <td>-0.0425</td>\n",
              "      <td>3.945</td>\n",
              "      <td>4.3025</td>\n",
              "      <td>6.21</td>\n",
              "    </tr>\n",
              "    <tr>\n",
              "      <th>2022-06-07</th>\n",
              "      <td>24.0</td>\n",
              "      <td>3.152917</td>\n",
              "      <td>2.052444</td>\n",
              "      <td>-0.46</td>\n",
              "      <td>1.5850</td>\n",
              "      <td>3.940</td>\n",
              "      <td>4.5875</td>\n",
              "      <td>5.51</td>\n",
              "    </tr>\n",
              "    <tr>\n",
              "      <th>2022-06-08</th>\n",
              "      <td>24.0</td>\n",
              "      <td>2.877917</td>\n",
              "      <td>2.218244</td>\n",
              "      <td>-2.07</td>\n",
              "      <td>0.8150</td>\n",
              "      <td>4.060</td>\n",
              "      <td>4.5350</td>\n",
              "      <td>5.32</td>\n",
              "    </tr>\n",
              "    <tr>\n",
              "      <th>2022-06-09</th>\n",
              "      <td>24.0</td>\n",
              "      <td>3.015833</td>\n",
              "      <td>2.586508</td>\n",
              "      <td>-1.78</td>\n",
              "      <td>-0.0075</td>\n",
              "      <td>4.420</td>\n",
              "      <td>4.8700</td>\n",
              "      <td>5.61</td>\n",
              "    </tr>\n",
              "  </tbody>\n",
              "</table>\n",
              "</div>\n",
              "      <button class=\"colab-df-convert\" onclick=\"convertToInteractive('df-584b3798-4db7-4355-911a-267e98dcb32b')\"\n",
              "              title=\"Convert this dataframe to an interactive table.\"\n",
              "              style=\"display:none;\">\n",
              "        \n",
              "  <svg xmlns=\"http://www.w3.org/2000/svg\" height=\"24px\"viewBox=\"0 0 24 24\"\n",
              "       width=\"24px\">\n",
              "    <path d=\"M0 0h24v24H0V0z\" fill=\"none\"/>\n",
              "    <path d=\"M18.56 5.44l.94 2.06.94-2.06 2.06-.94-2.06-.94-.94-2.06-.94 2.06-2.06.94zm-11 1L8.5 8.5l.94-2.06 2.06-.94-2.06-.94L8.5 2.5l-.94 2.06-2.06.94zm10 10l.94 2.06.94-2.06 2.06-.94-2.06-.94-.94-2.06-.94 2.06-2.06.94z\"/><path d=\"M17.41 7.96l-1.37-1.37c-.4-.4-.92-.59-1.43-.59-.52 0-1.04.2-1.43.59L10.3 9.45l-7.72 7.72c-.78.78-.78 2.05 0 2.83L4 21.41c.39.39.9.59 1.41.59.51 0 1.02-.2 1.41-.59l7.78-7.78 2.81-2.81c.8-.78.8-2.07 0-2.86zM5.41 20L4 18.59l7.72-7.72 1.47 1.35L5.41 20z\"/>\n",
              "  </svg>\n",
              "      </button>\n",
              "      \n",
              "  <style>\n",
              "    .colab-df-container {\n",
              "      display:flex;\n",
              "      flex-wrap:wrap;\n",
              "      gap: 12px;\n",
              "    }\n",
              "\n",
              "    .colab-df-convert {\n",
              "      background-color: #E8F0FE;\n",
              "      border: none;\n",
              "      border-radius: 50%;\n",
              "      cursor: pointer;\n",
              "      display: none;\n",
              "      fill: #1967D2;\n",
              "      height: 32px;\n",
              "      padding: 0 0 0 0;\n",
              "      width: 32px;\n",
              "    }\n",
              "\n",
              "    .colab-df-convert:hover {\n",
              "      background-color: #E2EBFA;\n",
              "      box-shadow: 0px 1px 2px rgba(60, 64, 67, 0.3), 0px 1px 3px 1px rgba(60, 64, 67, 0.15);\n",
              "      fill: #174EA6;\n",
              "    }\n",
              "\n",
              "    [theme=dark] .colab-df-convert {\n",
              "      background-color: #3B4455;\n",
              "      fill: #D2E3FC;\n",
              "    }\n",
              "\n",
              "    [theme=dark] .colab-df-convert:hover {\n",
              "      background-color: #434B5C;\n",
              "      box-shadow: 0px 1px 3px 1px rgba(0, 0, 0, 0.15);\n",
              "      filter: drop-shadow(0px 1px 2px rgba(0, 0, 0, 0.3));\n",
              "      fill: #FFFFFF;\n",
              "    }\n",
              "  </style>\n",
              "\n",
              "      <script>\n",
              "        const buttonEl =\n",
              "          document.querySelector('#df-584b3798-4db7-4355-911a-267e98dcb32b button.colab-df-convert');\n",
              "        buttonEl.style.display =\n",
              "          google.colab.kernel.accessAllowed ? 'block' : 'none';\n",
              "\n",
              "        async function convertToInteractive(key) {\n",
              "          const element = document.querySelector('#df-584b3798-4db7-4355-911a-267e98dcb32b');\n",
              "          const dataTable =\n",
              "            await google.colab.kernel.invokeFunction('convertToInteractive',\n",
              "                                                     [key], {});\n",
              "          if (!dataTable) return;\n",
              "\n",
              "          const docLinkHtml = 'Like what you see? Visit the ' +\n",
              "            '<a target=\"_blank\" href=https://colab.research.google.com/notebooks/data_table.ipynb>data table notebook</a>'\n",
              "            + ' to learn more about interactive tables.';\n",
              "          element.innerHTML = '';\n",
              "          dataTable['output_type'] = 'display_data';\n",
              "          await google.colab.output.renderOutput(dataTable, element);\n",
              "          const docLink = document.createElement('div');\n",
              "          docLink.innerHTML = docLinkHtml;\n",
              "          element.appendChild(docLink);\n",
              "        }\n",
              "      </script>\n",
              "    </div>\n",
              "  </div>\n",
              "  "
            ]
          },
          "metadata": {},
          "execution_count": 199
        }
      ]
    },
    {
      "cell_type": "markdown",
      "source": [
        "Após obter mediana, desvio padrão, máximo, mínimo, primeiro e terceiro quartíl do erro, podemos concluir que o valor da previsão não fica muito distante do valor real. Por exemplo, se olharmos o desvio padrão, notamos que ele não dispara para muito acima do 0, indicando que é um conjunto mais homogêneo."
      ],
      "metadata": {
        "id": "C0eDmby24Ad-"
      }
    },
    {
      "cell_type": "markdown",
      "source": [
        "Também podemos obter as medidas descritivas de forma global."
      ],
      "metadata": {
        "id": "9GarhITC4-jA"
      }
    },
    {
      "cell_type": "code",
      "source": [
        "print('Mediana: %.3f' %df.ERRO_TEM.median())\n",
        "df.ERRO_TEM.describe()"
      ],
      "metadata": {
        "colab": {
          "base_uri": "https://localhost:8080/"
        },
        "id": "TwvV858Dl5sU",
        "outputId": "efdd52bd-1aa3-4320-ee9e-31166274f080"
      },
      "execution_count": 116,
      "outputs": [
        {
          "output_type": "stream",
          "name": "stdout",
          "text": [
            "Mediana: 4.145\n"
          ]
        },
        {
          "output_type": "execute_result",
          "data": {
            "text/plain": [
              "count    216.0000\n",
              "mean       2.8700\n",
              "std        2.3476\n",
              "min       -2.9500\n",
              "25%        0.6800\n",
              "50%        4.1450\n",
              "75%        4.5700\n",
              "max        6.2100\n",
              "Name: ERRO_TEM, dtype: float64"
            ]
          },
          "metadata": {},
          "execution_count": 116
        }
      ]
    },
    {
      "cell_type": "markdown",
      "source": [
        "Do gráfico Boxplot aplicado ao ERRO_TEM de forma global, podemos ver que a linha verde está bem próximo do valor 4, que é exatamente a mediada de valor 4.145 que calculamos."
      ],
      "metadata": {
        "id": "88ikHPT_sK2K"
      }
    },
    {
      "cell_type": "code",
      "source": [
        "import matplotlib.pyplot as plt\n",
        "\n",
        "plt.figure(figsize=(10, 6))\n",
        "boxplot = df.boxplot(column=['ERRO_TEM'])\n",
        "boxplot.plot()"
      ],
      "metadata": {
        "colab": {
          "base_uri": "https://localhost:8080/",
          "height": 392
        },
        "id": "i7juySjJq9Tl",
        "outputId": "987e8ed1-9cfd-4e13-8618-d15008ec4b1d"
      },
      "execution_count": 159,
      "outputs": [
        {
          "output_type": "execute_result",
          "data": {
            "text/plain": [
              "[]"
            ]
          },
          "metadata": {},
          "execution_count": 159
        },
        {
          "output_type": "display_data",
          "data": {
            "text/plain": [
              "<Figure size 720x432 with 1 Axes>"
            ],
            "image/png": "[encoded data removed]"
          },
          "metadata": {
            "needs_background": "light"
          }
        }
      ]
    },
    {
      "cell_type": "markdown",
      "source": [
        "Histograma com a frequência dos erros. Podemos notar que os valores são bem concentrados, não temos valores tão distantes (outliers),conclusão também realizada quando encontramos o valor do rmse_temp.\n"
      ],
      "metadata": {
        "id": "vgmNDl0g7yDX"
      }
    },
    {
      "cell_type": "code",
      "source": [
        "plt.figure(figsize=(12, 6))\n",
        "erro_tem_freq = df.ERRO_TEM.value_counts()\n",
        "plt.bar(erro_tem_freq.index, erro_tem_freq.values)"
      ],
      "metadata": {
        "colab": {
          "base_uri": "https://localhost:8080/",
          "height": 391
        },
        "id": "lpOSAGnR7po7",
        "outputId": "e272ea9f-14c8-4711-e402-17da4c931aca"
      },
      "execution_count": 151,
      "outputs": [
        {
          "output_type": "execute_result",
          "data": {
            "text/plain": [
              "<BarContainer object of 186 artists>"
            ]
          },
          "metadata": {},
          "execution_count": 151
        },
        {
          "output_type": "display_data",
          "data": {
            "text/plain": [
              "<Figure size 864x432 with 1 Axes>"
            ],
            "image/png": "[encoded data removed]"
          },
          "metadata": {
            "needs_background": "light"
          }
        }
      ]
    },
    {
      "cell_type": "markdown",
      "source": [
        "Do gráfico de dispersão (tempo vs erro) podemos notar os dias em que os erros de maior valor são mais incidentes, assim como pode-se verificar que o maior erro foi do dia 06/06/2022."
      ],
      "metadata": {
        "id": "ObCkUnn-9I1f"
      }
    },
    {
      "cell_type": "code",
      "source": [
        "plt.figure(figsize=(15, 6))\n",
        "#plt.axis('equal')\n",
        "plt.scatter(df.DT_MEDICAO, df.ERRO_TEM)"
      ],
      "metadata": {
        "colab": {
          "base_uri": "https://localhost:8080/",
          "height": 391
        },
        "id": "-ncqPcp39OZX",
        "outputId": "6d7a64e1-56a9-4a48-b5cc-0b1cda4ac13c"
      },
      "execution_count": 200,
      "outputs": [
        {
          "output_type": "execute_result",
          "data": {
            "text/plain": [
              "<matplotlib.collections.PathCollection at 0x7efcbc3ce310>"
            ]
          },
          "metadata": {},
          "execution_count": 200
        },
        {
          "output_type": "display_data",
          "data": {
            "text/plain": [
              "<Figure size 1080x432 with 1 Axes>"
            ],
            "image/png": "[encoded data removed]"
          },
          "metadata": {
            "needs_background": "light"
          }
        }
      ]
    },
    {
      "cell_type": "markdown",
      "source": [
        "# Umidade"
      ],
      "metadata": {
        "id": "VMUFiLboCg-I"
      }
    },
    {
      "cell_type": "markdown",
      "source": [
        "Como analisamos anteriormente, o valor do RMSE da umidade é elevado, disso podemos concluir que há valores de captura do dispositivo significativamente distantes do real. Ao decorrer deste tópico só iremos confirmar esses valores elevados de erro.\n"
      ],
      "metadata": {
        "id": "rwmURzr7C4lI"
      }
    },
    {
      "cell_type": "code",
      "source": [
        "rmse_umid = sqrt(mean_squared_error(df.UMD_TB, df.UMD_INMET))\n",
        "print('RMSE da umidade: %.3f' %rmse_umid)"
      ],
      "metadata": {
        "colab": {
          "base_uri": "https://localhost:8080/"
        },
        "id": "X9spDC3lColb",
        "outputId": "f6bf9ff6-51c3-4e3d-8534-9c725715508f"
      },
      "execution_count": 201,
      "outputs": [
        {
          "output_type": "stream",
          "name": "stdout",
          "text": [
            "RMSE da umidade: 9.926\n"
          ]
        }
      ]
    },
    {
      "cell_type": "markdown",
      "source": [
        "Assim como utilizei para avaliação das medidas descritivas de erro para temperatura, também usarei a função groupby para umidade."
      ],
      "metadata": {
        "id": "lpuZAPqJDqF4"
      }
    },
    {
      "cell_type": "code",
      "source": [
        "df.groupby('DT_MEDICAO')\n",
        "df.groupby('DT_MEDICAO').count()\n",
        "df.groupby('DT_MEDICAO')['ERRO_UMD']"
      ],
      "metadata": {
        "colab": {
          "base_uri": "https://localhost:8080/"
        },
        "id": "ieQq8pYiEUSH",
        "outputId": "df0b3c74-4070-45f3-e407-40e89f24167a"
      },
      "execution_count": 202,
      "outputs": [
        {
          "output_type": "execute_result",
          "data": {
            "text/plain": [
              "<pandas.core.groupby.generic.SeriesGroupBy object at 0x7efcbc3d1350>"
            ]
          },
          "metadata": {},
          "execution_count": 202
        }
      ]
    },
    {
      "cell_type": "markdown",
      "source": [
        "Diferente do desvio padrão de valor baixo notado no erro da temperatura, na umidade temos um desvio padrão elevado, o que nos faz concluir que o ERRO_UMD é uma série de valores discrepantes, apenas confirmando o que já haviamos analisado ao obter o RMSE de valor elevado."
      ],
      "metadata": {
        "id": "rCkcBQAzFAjg"
      }
    },
    {
      "cell_type": "code",
      "source": [
        "df.groupby('DT_MEDICAO')['ERRO_UMD'].describe()"
      ],
      "metadata": {
        "colab": {
          "base_uri": "https://localhost:8080/",
          "height": 363
        },
        "id": "9N6PiFULEqJ9",
        "outputId": "f97196a2-012f-4cba-e62c-959ea0707700"
      },
      "execution_count": 204,
      "outputs": [
        {
          "output_type": "execute_result",
          "data": {
            "text/plain": [
              "            count      mean        std    min     25%    50%      75%    max\n",
              "DT_MEDICAO                                                                  \n",
              "2022-06-01   24.0  2.918333   9.627091  -5.99 -4.1225 -3.195  12.3725  18.82\n",
              "2022-06-02   24.0  2.445000   8.649088  -4.56 -4.0000 -3.245   7.4600  24.48\n",
              "2022-06-03   24.0  0.935000  10.183094  -9.55 -5.8750 -4.040   6.5925  21.63\n",
              "2022-06-04   24.0  0.095417   7.452320 -10.27 -4.0475 -2.300   2.2950  16.84\n",
              "2022-06-05   24.0  0.855000  10.967282  -9.86 -6.5550 -4.155  10.6725  22.32\n",
              "2022-06-06   24.0  3.088750  10.896444  -9.32 -5.0000 -3.605  11.6000  26.31\n",
              "2022-06-07   24.0  1.397083   9.587511  -8.29 -6.4400 -2.530   9.2625  21.86\n",
              "2022-06-08   24.0  2.827917  11.339289  -8.52 -5.4675 -2.095  10.4125  33.11\n",
              "2022-06-09   24.0  0.977500  10.042960 -10.79 -6.3625 -3.150  12.2725  18.18"
            ],
            "text/html": [
              "\n",
              "  <div id=\"df-ef7504ee-4942-4b79-bdb5-e9947a5b3869\">\n",
              "    <div class=\"colab-df-container\">\n",
              "      <div>\n",
              "<style scoped>\n",
              "    .dataframe tbody tr th:only-of-type {\n",
              "        vertical-align: middle;\n",
              "    }\n",
              "\n",
              "    .dataframe tbody tr th {\n",
              "        vertical-align: top;\n",
              "    }\n",
              "\n",
              "    .dataframe thead th {\n",
              "        text-align: right;\n",
              "    }\n",
              "</style>\n",
              "<table border=\"1\" class=\"dataframe\">\n",
              "  <thead>\n",
              "    <tr style=\"text-align: right;\">\n",
              "      <th></th>\n",
              "      <th>count</th>\n",
              "      <th>mean</th>\n",
              "      <th>std</th>\n",
              "      <th>min</th>\n",
              "      <th>25%</th>\n",
              "      <th>50%</th>\n",
              "      <th>75%</th>\n",
              "      <th>max</th>\n",
              "    </tr>\n",
              "    <tr>\n",
              "      <th>DT_MEDICAO</th>\n",
              "      <th></th>\n",
              "      <th></th>\n",
              "      <th></th>\n",
              "      <th></th>\n",
              "      <th></th>\n",
              "      <th></th>\n",
              "      <th></th>\n",
              "      <th></th>\n",
              "    </tr>\n",
              "  </thead>\n",
              "  <tbody>\n",
              "    <tr>\n",
              "      <th>2022-06-01</th>\n",
              "      <td>24.0</td>\n",
              "      <td>2.918333</td>\n",
              "      <td>9.627091</td>\n",
              "      <td>-5.99</td>\n",
              "      <td>-4.1225</td>\n",
              "      <td>-3.195</td>\n",
              "      <td>12.3725</td>\n",
              "      <td>18.82</td>\n",
              "    </tr>\n",
              "    <tr>\n",
              "      <th>2022-06-02</th>\n",
              "      <td>24.0</td>\n",
              "      <td>2.445000</td>\n",
              "      <td>8.649088</td>\n",
              "      <td>-4.56</td>\n",
              "      <td>-4.0000</td>\n",
              "      <td>-3.245</td>\n",
              "      <td>7.4600</td>\n",
              "      <td>24.48</td>\n",
              "    </tr>\n",
              "    <tr>\n",
              "      <th>2022-06-03</th>\n",
              "      <td>24.0</td>\n",
              "      <td>0.935000</td>\n",
              "      <td>10.183094</td>\n",
              "      <td>-9.55</td>\n",
              "      <td>-5.8750</td>\n",
              "      <td>-4.040</td>\n",
              "      <td>6.5925</td>\n",
              "      <td>21.63</td>\n",
              "    </tr>\n",
              "    <tr>\n",
              "      <th>2022-06-04</th>\n",
              "      <td>24.0</td>\n",
              "      <td>0.095417</td>\n",
              "      <td>7.452320</td>\n",
              "      <td>-10.27</td>\n",
              "      <td>-4.0475</td>\n",
              "      <td>-2.300</td>\n",
              "      <td>2.2950</td>\n",
              "      <td>16.84</td>\n",
              "    </tr>\n",
              "    <tr>\n",
              "      <th>2022-06-05</th>\n",
              "      <td>24.0</td>\n",
              "      <td>0.855000</td>\n",
              "      <td>10.967282</td>\n",
              "      <td>-9.86</td>\n",
              "      <td>-6.5550</td>\n",
              "      <td>-4.155</td>\n",
              "      <td>10.6725</td>\n",
              "      <td>22.32</td>\n",
              "    </tr>\n",
              "    <tr>\n",
              "      <th>2022-06-06</th>\n",
              "      <td>24.0</td>\n",
              "      <td>3.088750</td>\n",
              "      <td>10.896444</td>\n",
              "      <td>-9.32</td>\n",
              "      <td>-5.0000</td>\n",
              "      <td>-3.605</td>\n",
              "      <td>11.6000</td>\n",
              "      <td>26.31</td>\n",
              "    </tr>\n",
              "    <tr>\n",
              "      <th>2022-06-07</th>\n",
              "      <td>24.0</td>\n",
              "      <td>1.397083</td>\n",
              "      <td>9.587511</td>\n",
              "      <td>-8.29</td>\n",
              "      <td>-6.4400</td>\n",
              "      <td>-2.530</td>\n",
              "      <td>9.2625</td>\n",
              "      <td>21.86</td>\n",
              "    </tr>\n",
              "    <tr>\n",
              "      <th>2022-06-08</th>\n",
              "      <td>24.0</td>\n",
              "      <td>2.827917</td>\n",
              "      <td>11.339289</td>\n",
              "      <td>-8.52</td>\n",
              "      <td>-5.4675</td>\n",
              "      <td>-2.095</td>\n",
              "      <td>10.4125</td>\n",
              "      <td>33.11</td>\n",
              "    </tr>\n",
              "    <tr>\n",
              "      <th>2022-06-09</th>\n",
              "      <td>24.0</td>\n",
              "      <td>0.977500</td>\n",
              "      <td>10.042960</td>\n",
              "      <td>-10.79</td>\n",
              "      <td>-6.3625</td>\n",
              "      <td>-3.150</td>\n",
              "      <td>12.2725</td>\n",
              "      <td>18.18</td>\n",
              "    </tr>\n",
              "  </tbody>\n",
              "</table>\n",
              "</div>\n",
              "      <button class=\"colab-df-convert\" onclick=\"convertToInteractive('df-ef7504ee-4942-4b79-bdb5-e9947a5b3869')\"\n",
              "              title=\"Convert this dataframe to an interactive table.\"\n",
              "              style=\"display:none;\">\n",
              "        \n",
              "  <svg xmlns=\"http://www.w3.org/2000/svg\" height=\"24px\"viewBox=\"0 0 24 24\"\n",
              "       width=\"24px\">\n",
              "    <path d=\"M0 0h24v24H0V0z\" fill=\"none\"/>\n",
              "    <path d=\"M18.56 5.44l.94 2.06.94-2.06 2.06-.94-2.06-.94-.94-2.06-.94 2.06-2.06.94zm-11 1L8.5 8.5l.94-2.06 2.06-.94-2.06-.94L8.5 2.5l-.94 2.06-2.06.94zm10 10l.94 2.06.94-2.06 2.06-.94-2.06-.94-.94-2.06-.94 2.06-2.06.94z\"/><path d=\"M17.41 7.96l-1.37-1.37c-.4-.4-.92-.59-1.43-.59-.52 0-1.04.2-1.43.59L10.3 9.45l-7.72 7.72c-.78.78-.78 2.05 0 2.83L4 21.41c.39.39.9.59 1.41.59.51 0 1.02-.2 1.41-.59l7.78-7.78 2.81-2.81c.8-.78.8-2.07 0-2.86zM5.41 20L4 18.59l7.72-7.72 1.47 1.35L5.41 20z\"/>\n",
              "  </svg>\n",
              "      </button>\n",
              "      \n",
              "  <style>\n",
              "    .colab-df-container {\n",
              "      display:flex;\n",
              "      flex-wrap:wrap;\n",
              "      gap: 12px;\n",
              "    }\n",
              "\n",
              "    .colab-df-convert {\n",
              "      background-color: #E8F0FE;\n",
              "      border: none;\n",
              "      border-radius: 50%;\n",
              "      cursor: pointer;\n",
              "      display: none;\n",
              "      fill: #1967D2;\n",
              "      height: 32px;\n",
              "      padding: 0 0 0 0;\n",
              "      width: 32px;\n",
              "    }\n",
              "\n",
              "    .colab-df-convert:hover {\n",
              "      background-color: #E2EBFA;\n",
              "      box-shadow: 0px 1px 2px rgba(60, 64, 67, 0.3), 0px 1px 3px 1px rgba(60, 64, 67, 0.15);\n",
              "      fill: #174EA6;\n",
              "    }\n",
              "\n",
              "    [theme=dark] .colab-df-convert {\n",
              "      background-color: #3B4455;\n",
              "      fill: #D2E3FC;\n",
              "    }\n",
              "\n",
              "    [theme=dark] .colab-df-convert:hover {\n",
              "      background-color: #434B5C;\n",
              "      box-shadow: 0px 1px 3px 1px rgba(0, 0, 0, 0.15);\n",
              "      filter: drop-shadow(0px 1px 2px rgba(0, 0, 0, 0.3));\n",
              "      fill: #FFFFFF;\n",
              "    }\n",
              "  </style>\n",
              "\n",
              "      <script>\n",
              "        const buttonEl =\n",
              "          document.querySelector('#df-ef7504ee-4942-4b79-bdb5-e9947a5b3869 button.colab-df-convert');\n",
              "        buttonEl.style.display =\n",
              "          google.colab.kernel.accessAllowed ? 'block' : 'none';\n",
              "\n",
              "        async function convertToInteractive(key) {\n",
              "          const element = document.querySelector('#df-ef7504ee-4942-4b79-bdb5-e9947a5b3869');\n",
              "          const dataTable =\n",
              "            await google.colab.kernel.invokeFunction('convertToInteractive',\n",
              "                                                     [key], {});\n",
              "          if (!dataTable) return;\n",
              "\n",
              "          const docLinkHtml = 'Like what you see? Visit the ' +\n",
              "            '<a target=\"_blank\" href=https://colab.research.google.com/notebooks/data_table.ipynb>data table notebook</a>'\n",
              "            + ' to learn more about interactive tables.';\n",
              "          element.innerHTML = '';\n",
              "          dataTable['output_type'] = 'display_data';\n",
              "          await google.colab.output.renderOutput(dataTable, element);\n",
              "          const docLink = document.createElement('div');\n",
              "          docLink.innerHTML = docLinkHtml;\n",
              "          element.appendChild(docLink);\n",
              "        }\n",
              "      </script>\n",
              "    </div>\n",
              "  </div>\n",
              "  "
            ]
          },
          "metadata": {},
          "execution_count": 204
        }
      ]
    },
    {
      "cell_type": "markdown",
      "source": [
        "Do Boxplot do erro da umidade é notável que o valor máximo global passa um pouco de 30, o tracejado verde é a mediana global, também lido como 50% do conjunto."
      ],
      "metadata": {
        "id": "xBIJcsfUIhqP"
      }
    },
    {
      "cell_type": "code",
      "source": [
        "import matplotlib.pyplot as plt\n",
        "\n",
        "plt.figure(figsize=(10, 6))\n",
        "boxplot = df.boxplot(column=['ERRO_UMD'])\n",
        "boxplot.plot()"
      ],
      "metadata": {
        "colab": {
          "base_uri": "https://localhost:8080/",
          "height": 392
        },
        "id": "VIdSpGVDE2mQ",
        "outputId": "9ae98f1f-8386-4a28-fedf-73ff492889a1"
      },
      "execution_count": 205,
      "outputs": [
        {
          "output_type": "execute_result",
          "data": {
            "text/plain": [
              "[]"
            ]
          },
          "metadata": {},
          "execution_count": 205
        },
        {
          "output_type": "display_data",
          "data": {
            "text/plain": [
              "<Figure size 720x432 with 1 Axes>"
            ],
            "image/png": "[encoded data removed]"
          },
          "metadata": {
            "needs_background": "light"
          }
        }
      ]
    },
    {
      "cell_type": "markdown",
      "source": [
        "Do histograma de erros da umidade vemos que o valor de erro de maor incidência é algo entre 3 e 6 e que os demais valores de erro são bem distribuidos em termos de frequência, um exemplo são os valores entre 0 e 20 que possuem a mesma frequência."
      ],
      "metadata": {
        "id": "y4PkmrFtK56N"
      }
    },
    {
      "cell_type": "code",
      "source": [
        "plt.figure(figsize=(15, 6))\n",
        "erro_umid_freq = df.ERRO_UMD.value_counts()\n",
        "plt.bar(erro_umid_freq.index, erro_umid_freq.values)"
      ],
      "metadata": {
        "colab": {
          "base_uri": "https://localhost:8080/",
          "height": 391
        },
        "id": "WC1UfRFIJ-ob",
        "outputId": "0d4d1ce3-c804-4525-abf7-c24cd7d8e418"
      },
      "execution_count": 206,
      "outputs": [
        {
          "output_type": "execute_result",
          "data": {
            "text/plain": [
              "<BarContainer object of 194 artists>"
            ]
          },
          "metadata": {},
          "execution_count": 206
        },
        {
          "output_type": "display_data",
          "data": {
            "text/plain": [
              "<Figure size 1080x432 with 1 Axes>"
            ],
            "image/png": "[encoded data removed]"
          },
          "metadata": {
            "needs_background": "light"
          }
        }
      ]
    },
    {
      "cell_type": "markdown",
      "source": [
        "Do gráfico de dispersão (tempo vs erro) pode-se notar que o dia de maior valor de erro foi no dia 08/06/2022, também podemos ver que o dia 01/06/2022 só possui valores menor que zero e maior que 10."
      ],
      "metadata": {
        "id": "AsXTJzObOiF_"
      }
    },
    {
      "cell_type": "code",
      "source": [
        "plt.figure(figsize=(15, 6))\n",
        "#plt.axis('equal')\n",
        "plt.scatter(df.DT_MEDICAO, df.ERRO_UMD)"
      ],
      "metadata": {
        "colab": {
          "base_uri": "https://localhost:8080/",
          "height": 391
        },
        "id": "PuT0AbzXLoDt",
        "outputId": "3b56dc8c-00ea-4e0a-80c5-19a0e165397f"
      },
      "execution_count": 207,
      "outputs": [
        {
          "output_type": "execute_result",
          "data": {
            "text/plain": [
              "<matplotlib.collections.PathCollection at 0x7efcbc31c4d0>"
            ]
          },
          "metadata": {},
          "execution_count": 207
        },
        {
          "output_type": "display_data",
          "data": {
            "text/plain": [
              "<Figure size 1080x432 with 1 Axes>"
            ],
            "image/png": "[encoded data removed]"
          },
          "metadata": {
            "needs_background": "light"
          }
        }
      ]
    },
    {
      "cell_type": "markdown",
      "source": [
        "# Conclusão"
      ],
      "metadata": {
        "id": "NnuJnBT0Smeh"
      }
    },
    {
      "cell_type": "markdown",
      "source": [
        "  O dispositivo no que diz respeito à temperatura nos mostrou dados muito próximos da realidade, isso porquê devemos levar em consideração o local em que o dispositivo estava localizado, a troca de calor com aparelhos e objetos que geram calor próximos e outras interferências. Todavía, quando avaliamos os dados de umidade, temos valores bem discrepantes dos fornecidos pelo INMET, isso se dá pelo fato da variação da umidade durante o dia ser muito maior e assim como no caso da temperatura, o local também interfere, e nesse caso o dispositivo estava próximo a um local de intensa geração de vapor."
      ],
      "metadata": {
        "id": "uANic9LcSxQb"
      }
    }
  ]
}